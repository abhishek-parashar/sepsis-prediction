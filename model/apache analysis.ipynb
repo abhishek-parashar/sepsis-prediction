{
 "cells": [
  {
   "cell_type": "code",
   "execution_count": 1,
   "metadata": {},
   "outputs": [],
   "source": [
    "import pandas as pd\n",
    "import numpy as np\n",
    "import matplotlib.pyplot as plt"
   ]
  },
  {
   "cell_type": "code",
   "execution_count": 2,
   "metadata": {},
   "outputs": [],
   "source": [
    "apache=pd.read_csv(\"C://Users/Abhishek Parashar//Desktop//.ipynb_checkpoints//Training Data.csv\")"
   ]
  },
  {
   "cell_type": "code",
   "execution_count": null,
   "metadata": {},
   "outputs": [],
   "source": [
    "apache.head()"
   ]
  },
  {
   "cell_type": "code",
   "execution_count": 4,
   "metadata": {},
   "outputs": [
    {
     "data": {
      "text/plain": [
       "array(['IV', 'IVa'], dtype=object)"
      ]
     },
     "execution_count": 4,
     "metadata": {},
     "output_type": "execute_result"
    }
   ],
   "source": [
    "apache.apacheversion.unique()"
   ]
  },
  {
   "cell_type": "code",
   "execution_count": 12,
   "metadata": {},
   "outputs": [],
   "source": [
    "v4=apache.loc[apache['apacheversion']=='IV']\n",
    "v4a=apache.loc[apache['apacheversion'].str.contains(\"IVa\")]"
   ]
  },
  {
   "cell_type": "code",
   "execution_count": null,
   "metadata": {},
   "outputs": [],
   "source": [
    "v4"
   ]
  },
  {
   "cell_type": "code",
   "execution_count": null,
   "metadata": {},
   "outputs": [],
   "source": [
    "v4a"
   ]
  },
  {
   "cell_type": "code",
   "execution_count": 15,
   "metadata": {},
   "outputs": [],
   "source": [
    "v4_scores=v4['apachescore']\n",
    "v4a_scores=v4a['apachescore']"
   ]
  },
  {
   "cell_type": "code",
   "execution_count": 19,
   "metadata": {},
   "outputs": [],
   "source": [
    "v4_mean=np.mean(v4_scores)\n",
    "v4a_mean=np.mean(v4a_scores)\n",
    "v4_25perc=np.percentile(v4_scores,25)\n",
    "v4_75perc=np.percentile(v4_scores,75)\n",
    "\n",
    "v4a_25perc=np.percentile(v4a_scores,25)\n",
    "v4a_75perc=np.percentile(v4a_scores,75)"
   ]
  },
  {
   "cell_type": "code",
   "execution_count": 21,
   "metadata": {},
   "outputs": [
    {
     "name": "stdout",
     "output_type": "stream",
     "text": [
      "54.79631998491907\n",
      "54.79631998491907\n"
     ]
    }
   ],
   "source": [
    "print(v4_mean)\n",
    "print(v4a_mean)"
   ]
  },
  {
   "cell_type": "code",
   "execution_count": 22,
   "metadata": {},
   "outputs": [
    {
     "name": "stdout",
     "output_type": "stream",
     "text": [
      "37.0\n",
      "37.0\n"
     ]
    }
   ],
   "source": [
    "print(v4_25perc)\n",
    "print(v4a_25perc)"
   ]
  },
  {
   "cell_type": "code",
   "execution_count": 23,
   "metadata": {},
   "outputs": [
    {
     "name": "stdout",
     "output_type": "stream",
     "text": [
      "68.0\n"
     ]
    }
   ],
   "source": [
    "print(v4_75perc)"
   ]
  },
  {
   "cell_type": "code",
   "execution_count": 24,
   "metadata": {},
   "outputs": [
    {
     "name": "stdout",
     "output_type": "stream",
     "text": [
      "31.0\n"
     ]
    }
   ],
   "source": [
    "range_v4=v4_75perc-v4_25perc\n",
    "print(range_v4)"
   ]
  },
  {
   "cell_type": "code",
   "execution_count": 25,
   "metadata": {},
   "outputs": [],
   "source": [
    "sus=pd.read_csv(\"24_hour_sepsis.csv\")"
   ]
  },
  {
   "cell_type": "code",
   "execution_count": 32,
   "metadata": {},
   "outputs": [],
   "source": [
    "sepsis_patients=list(sus.loc[sus['flag']==1]['patientunitstayid'])"
   ]
  },
  {
   "cell_type": "code",
   "execution_count": 36,
   "metadata": {},
   "outputs": [],
   "source": [
    "case_v4=v4.loc[v4['patientunitstayid'].isin(sepsis_patients)]"
   ]
  },
  {
   "cell_type": "code",
   "execution_count": 35,
   "metadata": {},
   "outputs": [],
   "source": [
    "control_v4=v4.loc[~(v4['patientunitstayid'].isin(sepsis_patients))]"
   ]
  },
  {
   "cell_type": "code",
   "execution_count": 40,
   "metadata": {},
   "outputs": [],
   "source": [
    "case_v4_scores=case_v4['apachescore']\n",
    "control_v4_scores=control_v4['apachescore']\n",
    "\n",
    "case_mean=np.mean(case_v4_scores)\n",
    "control_mean=np.mean(control_v4_scores)\n",
    "\n",
    "case_median=np.median(case_v4_scores)\n",
    "control_median=np.median(control_v4_scores)\n",
    "\n",
    "case_25perc=np.percentile(case_v4_scores,25)\n",
    "case_75perc=np.percentile(case_v4_scores,75)\n",
    "\n",
    "control_25perc=np.percentile(control_v4_scores,25)\n",
    "control_75perc=np.percentile(control_v4_scores,75)\n"
   ]
  },
  {
   "cell_type": "code",
   "execution_count": 42,
   "metadata": {},
   "outputs": [
    {
     "name": "stdout",
     "output_type": "stream",
     "text": [
      "68.53333876088904\n",
      "48.0\n",
      "84.0\n",
      "36.0\n"
     ]
    }
   ],
   "source": [
    "print(case_mean)\n",
    "print(case_25perc)\n",
    "print(case_75perc)\n",
    "print(case_75perc-case_25perc)"
   ]
  },
  {
   "cell_type": "code",
   "execution_count": 43,
   "metadata": {},
   "outputs": [
    {
     "name": "stdout",
     "output_type": "stream",
     "text": [
      "53.55791235165029\n",
      "36.0\n",
      "67.0\n",
      "31.0\n"
     ]
    }
   ],
   "source": [
    "print(control_mean)\n",
    "print(control_25perc)\n",
    "print(control_75perc)\n",
    "print(control_75perc-control_25perc)"
   ]
  },
  {
   "cell_type": "code",
   "execution_count": 41,
   "metadata": {},
   "outputs": [
    {
     "name": "stdout",
     "output_type": "stream",
     "text": [
      "63.0\n",
      "50.0\n"
     ]
    }
   ],
   "source": [
    "print(case_median)\n",
    "print(control_median)"
   ]
  },
  {
   "cell_type": "markdown",
   "metadata": {},
   "source": [
    "Now, check for number of patients on ventilator"
   ]
  },
  {
   "cell_type": "code",
   "execution_count": null,
   "metadata": {},
   "outputs": [],
   "source": [
    "vent=pd.read_csv(\"nursechartVent.csv\")\n",
    "vent.head()"
   ]
  },
  {
   "cell_type": "code",
   "execution_count": 52,
   "metadata": {},
   "outputs": [],
   "source": [
    "sepsis_vent_details=vent.loc[vent['patientunitstayid'].isin(sepsis_patients)]\n",
    "sepsis_vent_true=sepsis_vent_details.loc[sepsis_vent_details['nursingchartvalue'].str.contains(\"ventilator\")]\n",
    "sepsis_vent_pids_unique=list(sepsis_vent_true['patientunitstayid'].unique())"
   ]
  },
  {
   "cell_type": "code",
   "execution_count": 56,
   "metadata": {},
   "outputs": [
    {
     "data": {
      "text/plain": [
       "1140"
      ]
     },
     "execution_count": 56,
     "metadata": {},
     "output_type": "execute_result"
    }
   ],
   "source": [
    "len(sepsis_vent_pids_unique)"
   ]
  },
  {
   "cell_type": "code",
   "execution_count": 60,
   "metadata": {},
   "outputs": [
    {
     "name": "stdout",
     "output_type": "stream",
     "text": [
      "7680\n"
     ]
    }
   ],
   "source": [
    "control_vent_details=vent.loc[~(vent['patientunitstayid'].isin(sepsis_patients))]\n",
    "control_vent_details=control_vent_details.dropna(subset=['nursingchartvalue'])\n",
    "control_vent_true=control_vent_details.loc[control_vent_details['nursingchartvalue'].str.contains(\"ventilator\")]\n",
    "control_vent_pids_unique=list(control_vent_true['patientunitstayid'].unique())\n",
    "print(len(control_vent_pids_unique))"
   ]
  },
  {
   "cell_type": "code",
   "execution_count": null,
   "metadata": {},
   "outputs": [],
   "source": []
  },
  {
   "cell_type": "code",
   "execution_count": null,
   "metadata": {},
   "outputs": [],
   "source": [
    "control_vent_details.dropna(subset=['nursingchartvalue'])"
   ]
  },
  {
   "cell_type": "code",
   "execution_count": null,
   "metadata": {},
   "outputs": [],
   "source": []
  }
 ],
 "metadata": {
  "kernelspec": {
   "display_name": "Python 3",
   "language": "python",
   "name": "python3"
  },
  "language_info": {
   "codemirror_mode": {
    "name": "ipython",
    "version": 3
   },
   "file_extension": ".py",
   "mimetype": "text/x-python",
   "name": "python",
   "nbconvert_exporter": "python",
   "pygments_lexer": "ipython3",
   "version": "3.7.4"
  }
 },
 "nbformat": 4,
 "nbformat_minor": 2
}
